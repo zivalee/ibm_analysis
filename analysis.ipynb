{
 "cells": [
  {
   "cell_type": "code",
   "execution_count": 4,
   "metadata": {},
   "outputs": [
    {
     "name": "stdout",
     "output_type": "stream",
     "text": [
      "Index(['TotalWorkingYears', 'JobLevel', 'NumCompaniesWorked', 'Education',\n",
      "       'Age', 'Gender_Female', 'Gender_Male', 'EducationField_Human Resources',\n",
      "       'EducationField_Life Sciences', 'EducationField_Marketing',\n",
      "       'EducationField_Medical', 'EducationField_Other',\n",
      "       'EducationField_Technical Degree', 'Department_Human Resources',\n",
      "       'Department_Research & Development', 'Department_Sales',\n",
      "       'JobRole_Healthcare Representative', 'JobRole_Human Resources',\n",
      "       'JobRole_Laboratory Technician', 'JobRole_Manager',\n",
      "       'JobRole_Manufacturing Director', 'JobRole_Research Director',\n",
      "       'JobRole_Research Scientist', 'JobRole_Sales Executive',\n",
      "       'JobRole_Sales Representative'],\n",
      "      dtype='object')\n"
     ]
    }
   ],
   "source": [
    "import pickle\n",
    "import pandas as pd\n",
    "import numpy as np\n",
    "model = pickle.load(open('lgb_model', 'rb'))\n",
    "train_cols = pickle.load(open('train_column', 'rb')).columns\n",
    "scrape_data = pd.read_csv('../../PycharmProjects/scrape_linkedin/result_gender.csv').drop('Name', axis=1)\n",
    "print(train_cols)"
   ]
  },
  {
   "cell_type": "code",
   "execution_count": 5,
   "metadata": {},
   "outputs": [
    {
     "name": "stdout",
     "output_type": "stream",
     "text": [
      "    Education  Age  TotalWorkingYears  NumCompaniesWorked  JobLevel  \\\n",
      "0           3   36                 22                   3         2   \n",
      "1           3   30                  4                   3         2   \n",
      "2           4   30                  8                   2         2   \n",
      "3           3   48                 23                   5         2   \n",
      "4           3   50                 19                   5         2   \n",
      "5           3   20                  7                   5         2   \n",
      "6           3   20                  4                   3         2   \n",
      "7           4   27                  8                   1         2   \n",
      "8           4   26                 12                   5         2   \n",
      "9           3   47                 23                   5         2   \n",
      "10          3   40                  8                   5         2   \n",
      "11          3   33                  9                   3         2   \n",
      "12          3   25                 23                   5         2   \n",
      "13          4   19                 12                   5         2   \n",
      "14          4   35                 20                   5         2   \n",
      "15          4   46                 15                   3         2   \n",
      "16          4   49                 29                   5         2   \n",
      "17          3   28                 10                   3         2   \n",
      "18          3   30                  4                   3         2   \n",
      "19          3   26                  7                   4         2   \n",
      "20          4   31                  9                   4         2   \n",
      "21          3   18                  4                   4         2   \n",
      "22          4   30                  8                   2         2   \n",
      "23          3   25                  4                   1         2   \n",
      "24          4   52                 22                   5         2   \n",
      "25          3   32                 21                   4         2   \n",
      "26          4   26                  9                   5         2   \n",
      "27          3   35                 15                   3         2   \n",
      "28          3   37                 15                   5         2   \n",
      "29          4   30                  8                   4         2   \n",
      "30          4   49                 30                   4         2   \n",
      "31          4   34                 11                   1         2   \n",
      "32          4   56                 16                   5         2   \n",
      "33          3   24                  5                   5         2   \n",
      "34          3   51                 20                   3         2   \n",
      "35          3   46                 15                   5         2   \n",
      "\n",
      "    Gender_Female  Gender_Male  EducationField_Life Sciences  \\\n",
      "0               0            1                             0   \n",
      "1               0            1                             0   \n",
      "2               0            1                             0   \n",
      "3               0            1                             0   \n",
      "4               0            1                             0   \n",
      "5               0            1                             0   \n",
      "6               1            0                             0   \n",
      "7               0            1                             0   \n",
      "8               0            1                             0   \n",
      "9               0            1                             0   \n",
      "10              1            0                             0   \n",
      "11              0            1                             0   \n",
      "12              0            1                             0   \n",
      "13              0            1                             0   \n",
      "14              1            0                             0   \n",
      "15              0            1                             0   \n",
      "16              0            1                             0   \n",
      "17              0            1                             0   \n",
      "18              0            1                             0   \n",
      "19              0            1                             0   \n",
      "20              0            1                             0   \n",
      "21              0            1                             0   \n",
      "22              1            0                             0   \n",
      "23              1            0                             0   \n",
      "24              0            1                             0   \n",
      "25              0            1                             0   \n",
      "26              1            0                             0   \n",
      "27              0            1                             0   \n",
      "28              0            1                             1   \n",
      "29              0            1                             0   \n",
      "30              0            1                             0   \n",
      "31              0            1                             0   \n",
      "32              0            1                             0   \n",
      "33              0            1                             0   \n",
      "34              0            1                             0   \n",
      "35              0            1                             0   \n",
      "\n",
      "    EducationField_Marketing  EducationField_Other  \\\n",
      "0                          1                     0   \n",
      "1                          0                     1   \n",
      "2                          0                     1   \n",
      "3                          1                     0   \n",
      "4                          0                     1   \n",
      "5                          1                     0   \n",
      "6                          0                     1   \n",
      "7                          1                     0   \n",
      "8                          1                     0   \n",
      "9                          1                     0   \n",
      "10                         0                     1   \n",
      "11                         0                     1   \n",
      "12                         1                     0   \n",
      "13                         0                     1   \n",
      "14                         0                     1   \n",
      "15                         0                     1   \n",
      "16                         1                     0   \n",
      "17                         0                     1   \n",
      "18                         0                     1   \n",
      "19                         0                     1   \n",
      "20                         0                     1   \n",
      "21                         1                     0   \n",
      "22                         0                     1   \n",
      "23                         1                     0   \n",
      "24                         0                     1   \n",
      "25                         1                     0   \n",
      "26                         1                     0   \n",
      "27                         1                     0   \n",
      "28                         0                     0   \n",
      "29                         0                     1   \n",
      "30                         0                     1   \n",
      "31                         0                     0   \n",
      "32                         0                     1   \n",
      "33                         1                     0   \n",
      "34                         0                     1   \n",
      "35                         0                     1   \n",
      "\n",
      "    EducationField_Technical Degree  Department_Sales  JobRole_Manager  \n",
      "0                                 0                 1                1  \n",
      "1                                 0                 1                1  \n",
      "2                                 0                 1                1  \n",
      "3                                 0                 1                1  \n",
      "4                                 0                 1                1  \n",
      "5                                 0                 1                1  \n",
      "6                                 0                 1                1  \n",
      "7                                 0                 1                1  \n",
      "8                                 0                 1                1  \n",
      "9                                 0                 1                1  \n",
      "10                                0                 1                1  \n",
      "11                                0                 1                1  \n",
      "12                                0                 1                1  \n",
      "13                                0                 1                1  \n",
      "14                                0                 1                1  \n",
      "15                                0                 1                1  \n",
      "16                                0                 1                1  \n",
      "17                                0                 1                1  \n",
      "18                                0                 1                1  \n",
      "19                                0                 1                1  \n",
      "20                                0                 1                1  \n",
      "21                                0                 1                1  \n",
      "22                                0                 1                1  \n",
      "23                                0                 1                1  \n",
      "24                                0                 1                1  \n",
      "25                                0                 1                1  \n",
      "26                                0                 1                1  \n",
      "27                                0                 1                1  \n",
      "28                                0                 1                1  \n",
      "29                                0                 1                1  \n",
      "30                                0                 1                1  \n",
      "31                                1                 1                1  \n",
      "32                                0                 1                1  \n",
      "33                                0                 1                1  \n",
      "34                                0                 1                1  \n",
      "35                                0                 1                1  \n"
     ]
    }
   ],
   "source": [
    "# prepare data for prediction\n",
    "categorical = ['Gender', 'EducationField', 'Department', 'JobRole']\n",
    "numerical = ['Education', 'Age', 'TotalWorkingYears', 'NumCompaniesWorked', 'JobLevel']\n",
    "\n",
    "scrape_data = scrape_data.assign(Department=pd.Series('Sales', index=scrape_data.index))\n",
    "scrape_data = scrape_data.assign(JobRole=pd.Series('Manager', index=scrape_data.index))\n",
    "scrape_data = scrape_data.assign(JobLevel=pd.Series(2, index=scrape_data.index))\n",
    "\n",
    "df_num = scrape_data[numerical]\n",
    "df_cat = scrape_data[categorical]\n",
    "df_cat = pd.get_dummies(df_cat)\n",
    "\n",
    "df_scrape_missing = pd.concat([df_num, df_cat], axis=1)\n",
    "print(df_scrape_missing)\n",
    "# deal with missing columns\n",
    "missing_cols = set(train_cols) - set(df_scrape_missing.columns)\n",
    "for col in missing_cols:\n",
    "    df_scrape_missing[col] = 0\n",
    "df_scrape = df_scrape_missing[train_cols]\n",
    "# df_scrape.head()"
   ]
  },
  {
   "cell_type": "code",
   "execution_count": 6,
   "metadata": {},
   "outputs": [
    {
     "data": {
      "text/plain": [
       "([<matplotlib.axis.YTick at 0x7f44d7999be0>,\n",
       "  <matplotlib.axis.YTick at 0x7f44d7ee9c18>,\n",
       "  <matplotlib.axis.YTick at 0x7f44d79fd5f8>,\n",
       "  <matplotlib.axis.YTick at 0x7f44d7971780>,\n",
       "  <matplotlib.axis.YTick at 0x7f44d7971cc0>,\n",
       "  <matplotlib.axis.YTick at 0x7f44d7971860>,\n",
       "  <matplotlib.axis.YTick at 0x7f44d797a2b0>,\n",
       "  <matplotlib.axis.YTick at 0x7f44d797a828>,\n",
       "  <matplotlib.axis.YTick at 0x7f44d797ada0>,\n",
       "  <matplotlib.axis.YTick at 0x7f44d7981358>],\n",
       " <a list of 10 Text yticklabel objects>)"
      ]
     },
     "execution_count": 6,
     "metadata": {},
     "output_type": "execute_result"
    }
   ],
   "source": [
    "import matplotlib.pyplot as plt\n",
    "from matplotlib.ticker import PercentFormatter\n",
    "\n",
    "result = model.predict(df_scrape)\n",
    "origin = []\n",
    "predictions = []\n",
    "\n",
    "for x in result:\n",
    "    origin.append(np.argmax(x))\n",
    "    \n",
    "for x in result:\n",
    "    max = x.argsort()[-1] #argsort 小->大的index　[-1]最大值的index\n",
    "    if x[max]>0.8:\n",
    "        predictions.append(max)\n",
    "    elif max == 0:\n",
    "        predictions.append(max)\n",
    "    else:\n",
    "        predictions.append(max-1)\n",
    "# print(predictions)\n",
    "\n",
    "plt.title('result_distribution')\n",
    "plt.hist(origin, weights=np.ones(len(origin)) / len(origin))\n",
    "plt.gca().yaxis.set_major_formatter(PercentFormatter(1))\n",
    "plt.xticks(np.arange(4), ('0', '1', '2', '3'))\n",
    "plt.yticks(np.arange(0, 1, 0.1))"
   ]
  },
  {
   "cell_type": "code",
   "execution_count": 7,
   "metadata": {},
   "outputs": [
    {
     "data": {
      "text/plain": [
       "([<matplotlib.axis.YTick at 0x7f44d7952898>,\n",
       "  <matplotlib.axis.YTick at 0x7f44d924b198>,\n",
       "  <matplotlib.axis.YTick at 0x7f44d79609e8>,\n",
       "  <matplotlib.axis.YTick at 0x7f44d79123c8>,\n",
       "  <matplotlib.axis.YTick at 0x7f44d7912940>,\n",
       "  <matplotlib.axis.YTick at 0x7f44d7912eb8>,\n",
       "  <matplotlib.axis.YTick at 0x7f44d789a470>,\n",
       "  <matplotlib.axis.YTick at 0x7f44d789a9e8>,\n",
       "  <matplotlib.axis.YTick at 0x7f44d789af60>],\n",
       " <a list of 9 Text yticklabel objects>)"
      ]
     },
     "execution_count": 7,
     "metadata": {},
     "output_type": "execute_result"
    },
    {
     "data": {
      "image/png": "[encoded data removed]",
      "text/plain": [
       "<Figure size 432x288 with 1 Axes>"
      ]
     },
     "metadata": {
      "needs_background": "light"
     },
     "output_type": "display_data"
    }
   ],
   "source": [
    "plt.title('distribution')\n",
    "plt.hist(predictions, weights=np.ones(len(predictions)) / len(predictions))\n",
    "plt.gca().yaxis.set_major_formatter(PercentFormatter(1))\n",
    "plt.xticks(np.arange(4), ('0', '1', '2', '3'))\n",
    "plt.yticks(np.arange(0, 0.9, 0.1))"
   ]
  },
  {
   "cell_type": "code",
   "execution_count": 9,
   "metadata": {},
   "outputs": [
    {
     "name": "stdout",
     "output_type": "stream",
     "text": [
      "[2, 10, 13, 14, 20, 22, 24, 28, 29, 30, 32]\n",
      "https://cn.linkedin.com/in/fu-bai-8b906673/zh-tw\n",
      "https://www.linkedin.com/in/markeclinger\n",
      "https://www.linkedin.com/in/adrianalmachado\n",
      "https://www.linkedin.com/in/josiette-white-2785844/zh-tw\n",
      "https://www.linkedin.com/in/alexday1\n",
      "https://cn.linkedin.com/in/fu-bai-8b906673\n",
      "https://jp.linkedin.com/in/shinya-kira-9ba983b/zh-cn\n",
      "https://www.linkedin.com/in/drewmerle\n",
      "https://www.linkedin.com/in/mikemelrose\n",
      "https://www.linkedin.com/in/barackobama\n",
      "https://www.linkedin.com/in/marcos-holanda-46861728\n"
     ]
    }
   ],
   "source": [
    "recommend = []\n",
    "for index, pred in enumerate(predictions):\n",
    "    if pred == 2:\n",
    "        recommend.append(index)\n",
    "\n",
    "for i in recommend:\n",
    "    print(scrape_data.iloc[i].URL)"
   ]
  },
  {
   "cell_type": "code",
   "execution_count": null,
   "metadata": {},
   "outputs": [],
   "source": []
  }
 ],
 "metadata": {
  "kernelspec": {
   "display_name": "Python 3",
   "language": "python",
   "name": "python3"
  },
  "language_info": {
   "codemirror_mode": {
    "name": "ipython",
    "version": 3
   },
   "file_extension": ".py",
   "mimetype": "text/x-python",
   "name": "python",
   "nbconvert_exporter": "python",
   "pygments_lexer": "ipython3",
   "version": "3.7.3"
  }
 },
 "nbformat": 4,
 "nbformat_minor": 2
}
